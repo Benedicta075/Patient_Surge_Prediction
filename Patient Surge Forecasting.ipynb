{
 "cells": [
  {
   "cell_type": "markdown",
   "id": "d9a48edb",
   "metadata": {},
   "source": [
    "# Read In & Merge Tables"
   ]
  },
  {
   "cell_type": "code",
   "execution_count": 1,
   "id": "b7ad4761",
   "metadata": {},
   "outputs": [],
   "source": [
    "import pandas as pd\n",
    "\n",
    "# Loaded datasets\n",
    "disease = pd.read_csv(\"disease_incidence_service_data.csv\")\n",
    "pop = pd.read_csv(\"population_distribution.csv\")\n",
    "staff = pd.read_csv(\"health_worker_distribution.csv\")\n",
    "travel = pd.read_csv(\"travel_accessibility_data.csv\")\n",
    "\n",
    "\n"
   ]
  },
  {
   "cell_type": "code",
   "execution_count": 2,
   "id": "b98edd12",
   "metadata": {},
   "outputs": [],
   "source": [
    "# Merged on common keys\n",
    "df = (disease\n",
    "      .merge(pop[['month', 'facility_name', 'population_catchment']], on='month')\n",
    "      .merge(staff[['month', 'total_staff']], on='month')\n",
    "      .merge(travel[['month', 'travel_time_min']], on='month')\n",
    "     )\n",
    "\n",
    "df.rename(columns={'total_staff':'staff_count'}, inplace=True)"
   ]
  },
  {
   "cell_type": "code",
   "execution_count": 3,
   "id": "aee2da94",
   "metadata": {},
   "outputs": [
    {
     "data": {
      "text/plain": [
       "Index(['month', 'facility_name_x', 'ward', 'lga', 'state', 'latitude',\n",
       "       'longitude', 'facility_type', 'has_electricity', 'has_water_supply',\n",
       "       'patient_visits_total', 'disease_cases', 'malaria_cases_total',\n",
       "       'delivery_cases', 'facility_name_y', 'population_catchment',\n",
       "       'staff_count', 'travel_time_min'],\n",
       "      dtype='object')"
      ]
     },
     "execution_count": 3,
     "metadata": {},
     "output_type": "execute_result"
    }
   ],
   "source": [
    "df.columns"
   ]
  },
  {
   "cell_type": "code",
   "execution_count": 13,
   "id": "dc42c2c9",
   "metadata": {},
   "outputs": [
    {
     "data": {
      "text/html": [
       "<div>\n",
       "<style scoped>\n",
       "    .dataframe tbody tr th:only-of-type {\n",
       "        vertical-align: middle;\n",
       "    }\n",
       "\n",
       "    .dataframe tbody tr th {\n",
       "        vertical-align: top;\n",
       "    }\n",
       "\n",
       "    .dataframe thead th {\n",
       "        text-align: right;\n",
       "    }\n",
       "</style>\n",
       "<table border=\"1\" class=\"dataframe\">\n",
       "  <thead>\n",
       "    <tr style=\"text-align: right;\">\n",
       "      <th></th>\n",
       "      <th>month</th>\n",
       "      <th>facility_name_x</th>\n",
       "      <th>patient_visits_total</th>\n",
       "      <th>disease_cases</th>\n",
       "      <th>population_catchment</th>\n",
       "      <th>staff_count</th>\n",
       "      <th>travel_time_min</th>\n",
       "      <th>year</th>\n",
       "      <th>month_num</th>\n",
       "      <th>quarter</th>\n",
       "      <th>visits_per_staff</th>\n",
       "      <th>visits_per_1000_pop</th>\n",
       "      <th>disease_ratio</th>\n",
       "      <th>travel_per_staff</th>\n",
       "      <th>next_month_visits</th>\n",
       "      <th>overload_flag</th>\n",
       "    </tr>\n",
       "  </thead>\n",
       "  <tbody>\n",
       "    <tr>\n",
       "      <th>0</th>\n",
       "      <td>2022-01-10</td>\n",
       "      <td>Taimakon Jamaa Health Clinic</td>\n",
       "      <td>1575</td>\n",
       "      <td>360</td>\n",
       "      <td>50142</td>\n",
       "      <td>15</td>\n",
       "      <td>75</td>\n",
       "      <td>2022</td>\n",
       "      <td>1</td>\n",
       "      <td>1</td>\n",
       "      <td>105.000000</td>\n",
       "      <td>31.410793</td>\n",
       "      <td>0.228571</td>\n",
       "      <td>5.000000</td>\n",
       "      <td>1575.0</td>\n",
       "      <td>0</td>\n",
       "    </tr>\n",
       "    <tr>\n",
       "      <th>1</th>\n",
       "      <td>2022-01-10</td>\n",
       "      <td>Taimakon Jamaa Health Clinic</td>\n",
       "      <td>1575</td>\n",
       "      <td>360</td>\n",
       "      <td>50142</td>\n",
       "      <td>15</td>\n",
       "      <td>54</td>\n",
       "      <td>2022</td>\n",
       "      <td>1</td>\n",
       "      <td>1</td>\n",
       "      <td>105.000000</td>\n",
       "      <td>31.410793</td>\n",
       "      <td>0.228571</td>\n",
       "      <td>3.600000</td>\n",
       "      <td>1575.0</td>\n",
       "      <td>0</td>\n",
       "    </tr>\n",
       "    <tr>\n",
       "      <th>2</th>\n",
       "      <td>2022-01-10</td>\n",
       "      <td>Taimakon Jamaa Health Clinic</td>\n",
       "      <td>1575</td>\n",
       "      <td>360</td>\n",
       "      <td>58859</td>\n",
       "      <td>15</td>\n",
       "      <td>75</td>\n",
       "      <td>2022</td>\n",
       "      <td>1</td>\n",
       "      <td>1</td>\n",
       "      <td>105.000000</td>\n",
       "      <td>26.758864</td>\n",
       "      <td>0.228571</td>\n",
       "      <td>5.000000</td>\n",
       "      <td>1575.0</td>\n",
       "      <td>0</td>\n",
       "    </tr>\n",
       "    <tr>\n",
       "      <th>3</th>\n",
       "      <td>2022-01-10</td>\n",
       "      <td>Taimakon Jamaa Health Clinic</td>\n",
       "      <td>1575</td>\n",
       "      <td>360</td>\n",
       "      <td>58859</td>\n",
       "      <td>15</td>\n",
       "      <td>54</td>\n",
       "      <td>2022</td>\n",
       "      <td>1</td>\n",
       "      <td>1</td>\n",
       "      <td>105.000000</td>\n",
       "      <td>26.758864</td>\n",
       "      <td>0.228571</td>\n",
       "      <td>3.600000</td>\n",
       "      <td>2813.0</td>\n",
       "      <td>0</td>\n",
       "    </tr>\n",
       "    <tr>\n",
       "      <th>4</th>\n",
       "      <td>2022-01-12</td>\n",
       "      <td>Fariya Idp Camp Clinic</td>\n",
       "      <td>2038</td>\n",
       "      <td>408</td>\n",
       "      <td>26372</td>\n",
       "      <td>27</td>\n",
       "      <td>66</td>\n",
       "      <td>2022</td>\n",
       "      <td>1</td>\n",
       "      <td>1</td>\n",
       "      <td>75.481481</td>\n",
       "      <td>77.278932</td>\n",
       "      <td>0.200196</td>\n",
       "      <td>2.444444</td>\n",
       "      <td>2038.0</td>\n",
       "      <td>0</td>\n",
       "    </tr>\n",
       "  </tbody>\n",
       "</table>\n",
       "</div>"
      ],
      "text/plain": [
       "       month               facility_name_x  patient_visits_total  \\\n",
       "0 2022-01-10  Taimakon Jamaa Health Clinic                  1575   \n",
       "1 2022-01-10  Taimakon Jamaa Health Clinic                  1575   \n",
       "2 2022-01-10  Taimakon Jamaa Health Clinic                  1575   \n",
       "3 2022-01-10  Taimakon Jamaa Health Clinic                  1575   \n",
       "4 2022-01-12        Fariya Idp Camp Clinic                  2038   \n",
       "\n",
       "   disease_cases  population_catchment  staff_count  travel_time_min  year  \\\n",
       "0            360                 50142           15               75  2022   \n",
       "1            360                 50142           15               54  2022   \n",
       "2            360                 58859           15               75  2022   \n",
       "3            360                 58859           15               54  2022   \n",
       "4            408                 26372           27               66  2022   \n",
       "\n",
       "   month_num  quarter  visits_per_staff  visits_per_1000_pop  disease_ratio  \\\n",
       "0          1        1        105.000000            31.410793       0.228571   \n",
       "1          1        1        105.000000            31.410793       0.228571   \n",
       "2          1        1        105.000000            26.758864       0.228571   \n",
       "3          1        1        105.000000            26.758864       0.228571   \n",
       "4          1        1         75.481481            77.278932       0.200196   \n",
       "\n",
       "   travel_per_staff  next_month_visits  overload_flag  \n",
       "0          5.000000             1575.0              0  \n",
       "1          3.600000             1575.0              0  \n",
       "2          5.000000             1575.0              0  \n",
       "3          3.600000             2813.0              0  \n",
       "4          2.444444             2038.0              0  "
      ]
     },
     "execution_count": 13,
     "metadata": {},
     "output_type": "execute_result"
    }
   ],
   "source": [
    "df.head()"
   ]
  },
  {
   "cell_type": "markdown",
   "id": "3decb8d8",
   "metadata": {},
   "source": [
    "# Feature Engineering"
   ]
  },
  {
   "cell_type": "code",
   "execution_count": 5,
   "id": "60d95224",
   "metadata": {},
   "outputs": [],
   "source": [
    "# Dropped unnecessary columns\n",
    "df.drop([\n",
    "    'facility_name_y',\n",
    "    'ward',\n",
    "    'lga',\n",
    "    'state',\n",
    "    'latitude',\n",
    "    'longitude',\n",
    "    'facility_type',\n",
    "    'has_electricity',\n",
    "    'has_water_supply',\n",
    "    'malaria_cases_total',\n",
    "    'delivery_cases'\n",
    "], axis=1, inplace=True)\n"
   ]
  },
  {
   "cell_type": "code",
   "execution_count": 6,
   "id": "7adc9790",
   "metadata": {},
   "outputs": [],
   "source": [
    "# Created Temporal Features\n",
    "df['month'] = pd.to_datetime(df['month'])\n",
    "df['year'] = df['month'].dt.year\n",
    "df['month_num'] = df['month'].dt.month\n",
    "df['quarter'] = df['month'].dt.quarter\n"
   ]
  },
  {
   "cell_type": "code",
   "execution_count": 7,
   "id": "678eb2d5",
   "metadata": {},
   "outputs": [],
   "source": [
    "# Created Utilization Features\n",
    "df['visits_per_staff'] = df['patient_visits_total'] / df['staff_count']\n",
    "df['visits_per_1000_pop'] = (df['patient_visits_total'] / df['population_catchment']) * 1000\n"
   ]
  },
  {
   "cell_type": "code",
   "execution_count": 8,
   "id": "4f17ef45",
   "metadata": {},
   "outputs": [],
   "source": [
    "# Created Disease Pressure Indicator\n",
    "df['disease_ratio'] = df['disease_cases'] / df['patient_visits_total']"
   ]
  },
  {
   "cell_type": "code",
   "execution_count": 9,
   "id": "3bce4263",
   "metadata": {},
   "outputs": [],
   "source": [
    "# Created Accessibility Burden\n",
    "df['travel_per_staff'] = df['travel_time_min'] / df['staff_count']"
   ]
  },
  {
   "cell_type": "code",
   "execution_count": 10,
   "id": "20bc2610",
   "metadata": {},
   "outputs": [],
   "source": [
    "# Created Lag Feature (for time-series forecasting)\n",
    "df['next_month_visits'] = df.groupby('facility_name_x')['patient_visits_total'].shift(-1)"
   ]
  },
  {
   "cell_type": "code",
   "execution_count": 11,
   "id": "d397a696",
   "metadata": {},
   "outputs": [],
   "source": [
    "# Created Target variable for classification\n",
    "df['overload_flag'] = (df['next_month_visits'] > df['staff_count'] * 200).astype(int)"
   ]
  },
  {
   "cell_type": "code",
   "execution_count": 12,
   "id": "fd6e2364",
   "metadata": {},
   "outputs": [],
   "source": [
    "# Dropped Rows with Missing Target\n",
    "df = df.dropna(subset=['next_month_visits'])"
   ]
  },
  {
   "cell_type": "markdown",
   "id": "33f9def8",
   "metadata": {},
   "source": [
    "# Model Training & Evaluation"
   ]
  },
  {
   "cell_type": "code",
   "execution_count": 16,
   "id": "d9916e4a",
   "metadata": {},
   "outputs": [
    {
     "name": "stderr",
     "output_type": "stream",
     "text": [
      "13:52:58 - cmdstanpy - INFO - Chain [1] start processing\n",
      "13:53:43 - cmdstanpy - INFO - Chain [1] done processing\n"
     ]
    },
    {
     "data": {
      "application/vnd.jupyter.widget-view+json": {
       "model_id": "1de5eff8d1c04b00ae40f17f4422320b",
       "version_major": 2,
       "version_minor": 0
      },
      "text/plain": [
       "  0%|          | 0/6 [00:00<?, ?it/s]"
      ]
     },
     "metadata": {},
     "output_type": "display_data"
    },
    {
     "name": "stderr",
     "output_type": "stream",
     "text": [
      "13:53:43 - cmdstanpy - INFO - Chain [1] start processing\n",
      "13:53:46 - cmdstanpy - INFO - Chain [1] done processing\n",
      "13:53:47 - cmdstanpy - INFO - Chain [1] start processing\n",
      "13:53:50 - cmdstanpy - INFO - Chain [1] done processing\n",
      "13:53:51 - cmdstanpy - INFO - Chain [1] start processing\n",
      "13:54:10 - cmdstanpy - INFO - Chain [1] done processing\n",
      "13:54:11 - cmdstanpy - INFO - Chain [1] start processing\n",
      "13:54:11 - cmdstanpy - INFO - Chain [1] done processing\n",
      "13:54:12 - cmdstanpy - INFO - Chain [1] start processing\n",
      "13:54:12 - cmdstanpy - INFO - Chain [1] done processing\n",
      "13:54:13 - cmdstanpy - INFO - Chain [1] start processing\n",
      "13:54:20 - cmdstanpy - INFO - Chain [1] done processing\n"
     ]
    },
    {
     "name": "stdout",
     "output_type": "stream",
     "text": [
      "           rmse           mae      mape\n",
      "0  24160.165587  24160.165587  9.193366\n",
      "1  10905.446091   6154.465482  2.176459\n",
      "2   1724.894346   1724.894346  0.691895\n",
      "3  24160.165587  24160.165587  9.193366\n",
      "4  10905.446091   6154.465482  2.176459\n",
      "5   2973.724305   2973.724305  1.192830\n",
      "6   6057.671135   5943.656313  3.029656\n"
     ]
    }
   ],
   "source": [
    "# Prophet Model\n",
    "from prophet import Prophet\n",
    "from prophet.diagnostics import cross_validation, performance_metrics\n",
    "\n",
    "# Example for one PHC\n",
    "phc_data = df[df['facility_name_x'] == 'Taimakon Jamaa Health Clinic'][['month','patient_visits_total']]\n",
    "phc_data.rename(columns={'month':'ds','patient_visits_total':'y'}, inplace=True)\n",
    "\n",
    "model = Prophet()\n",
    "model.fit(phc_data)\n",
    "future = model.make_future_dataframe(periods=1, freq='M')\n",
    "forecast = model.predict(future)\n",
    "\n",
    "# Evaluate performance\n",
    "df_cv = cross_validation(model, horizon='60 days')\n",
    "metrics = performance_metrics(df_cv)\n",
    "print(metrics[['rmse','mae','mape']])\n"
   ]
  },
  {
   "cell_type": "code",
   "execution_count": 17,
   "id": "31294a13",
   "metadata": {},
   "outputs": [
    {
     "name": "stdout",
     "output_type": "stream",
     "text": [
      "R²: 0.663064468860241\n",
      "MAE: 529.027112841345\n"
     ]
    }
   ],
   "source": [
    "# Random Forest Model\n",
    "from sklearn.model_selection import train_test_split\n",
    "from sklearn.ensemble import RandomForestRegressor\n",
    "from sklearn.metrics import mean_absolute_error, r2_score\n",
    "\n",
    "features = ['patient_visits_total','population_catchment','staff_count','disease_cases','travel_time_min',\n",
    "            'visits_per_staff','visits_per_1000_pop','disease_ratio']\n",
    "\n",
    "X = df[features]\n",
    "y = df['next_month_visits']\n",
    "\n",
    "X_train, X_test, y_train, y_test = train_test_split(X, y, test_size=0.2, shuffle=False)\n",
    "\n",
    "rf = RandomForestRegressor(n_estimators=200, random_state=42)\n",
    "rf.fit(X_train, y_train)\n",
    "preds = rf.predict(X_test)\n",
    "\n",
    "print(\"R²:\", r2_score(y_test, preds))\n",
    "print(\"MAE:\", mean_absolute_error(y_test, preds))\n"
   ]
  },
  {
   "cell_type": "code",
   "execution_count": null,
   "id": "2f99381d",
   "metadata": {},
   "outputs": [],
   "source": [
    "# Installed xgboost library\n",
    "!pip install xgboost"
   ]
  },
  {
   "cell_type": "code",
   "execution_count": 20,
   "id": "edc3c767",
   "metadata": {},
   "outputs": [
    {
     "name": "stdout",
     "output_type": "stream",
     "text": [
      "RMSE: 844.7246447085383\n"
     ]
    }
   ],
   "source": [
    "# XGBoost Regressor Model\n",
    "from xgboost import XGBRegressor\n",
    "from sklearn.metrics import mean_squared_error\n",
    "\n",
    "xgb = XGBRegressor(n_estimators=250, learning_rate=0.05, random_state=42)\n",
    "xgb.fit(X_train, y_train)\n",
    "preds = xgb.predict(X_test)\n",
    "\n",
    "rmse = mean_squared_error(y_test, preds, squared=False)\n",
    "print(\"RMSE:\", rmse)\n"
   ]
  },
  {
   "cell_type": "code",
   "execution_count": 21,
   "id": "c1565396",
   "metadata": {},
   "outputs": [
    {
     "name": "stdout",
     "output_type": "stream",
     "text": [
      "Accuracy: 0.976303317535545\n",
      "[[151   4]\n",
      " [  1  55]]\n",
      "              precision    recall  f1-score   support\n",
      "\n",
      "           0       0.99      0.97      0.98       155\n",
      "           1       0.93      0.98      0.96        56\n",
      "\n",
      "    accuracy                           0.98       211\n",
      "   macro avg       0.96      0.98      0.97       211\n",
      "weighted avg       0.98      0.98      0.98       211\n",
      "\n"
     ]
    },
    {
     "name": "stderr",
     "output_type": "stream",
     "text": [
      "C:\\Users\\IPPIS\\anaconda3\\lib\\site-packages\\xgboost\\training.py:183: UserWarning: [14:21:28] WARNING: C:\\actions-runner\\_work\\xgboost\\xgboost\\src\\learner.cc:738: \n",
      "Parameters: { \"use_label_encoder\" } are not used.\n",
      "\n",
      "  bst.update(dtrain, iteration=i, fobj=obj)\n"
     ]
    }
   ],
   "source": [
    "# XGBoost Classifier Model\n",
    "from xgboost import XGBClassifier\n",
    "from sklearn.metrics import accuracy_score, confusion_matrix, classification_report\n",
    "\n",
    "y_class = df['overload_flag']\n",
    "X_train, X_test, y_train, y_test = train_test_split(X, y_class, test_size=0.2, shuffle=False)\n",
    "\n",
    "clf = XGBClassifier(use_label_encoder=False, eval_metric='logloss', random_state=42)\n",
    "clf.fit(X_train, y_train)\n",
    "preds = clf.predict(X_test)\n",
    "\n",
    "print(\"Accuracy:\", accuracy_score(y_test, preds))\n",
    "print(confusion_matrix(y_test, preds))\n",
    "print(classification_report(y_test, preds))\n"
   ]
  },
  {
   "cell_type": "markdown",
   "id": "eb747f50",
   "metadata": {},
   "source": [
    "# Prediction"
   ]
  },
  {
   "cell_type": "code",
   "execution_count": null,
   "id": "b063058c",
   "metadata": {},
   "outputs": [],
   "source": [
    "# Kept only the engineered columns I need\n",
    "month, facility_name, patient_visits_total, disease_cases,\n",
    "population_catchment, staff_count, travel_time_min,\n",
    "visits_per_staff, disease_ratio, visits_per_1000_pop,\n",
    "next_month_visits, overload_flag\n"
   ]
  },
  {
   "cell_type": "code",
   "execution_count": 45,
   "id": "fbfc7631",
   "metadata": {},
   "outputs": [],
   "source": [
    "# Dropped missing rows if any\n",
    "df = df.dropna(subset=['next_month_visits'])\n"
   ]
  },
  {
   "cell_type": "code",
   "execution_count": 46,
   "id": "e1227bec",
   "metadata": {},
   "outputs": [],
   "source": [
    "# Split the Data\n",
    "train = df[df['month'] < '2024-06-01']\n",
    "test = df[df['month'] >= '2024-06-01']\n",
    "\n",
    "X_train = train[features]\n",
    "y_train_reg = train['next_month_visits']\n",
    "y_train_clf = train['overload_flag']\n",
    "\n",
    "X_test = test[features]\n",
    "y_test_reg = test['next_month_visits']\n",
    "y_test_clf = test['overload_flag']\n"
   ]
  },
  {
   "cell_type": "code",
   "execution_count": 47,
   "id": "d6331f2f",
   "metadata": {},
   "outputs": [
    {
     "data": {
      "text/html": [
       "<style>#sk-container-id-3 {color: black;background-color: white;}#sk-container-id-3 pre{padding: 0;}#sk-container-id-3 div.sk-toggleable {background-color: white;}#sk-container-id-3 label.sk-toggleable__label {cursor: pointer;display: block;width: 100%;margin-bottom: 0;padding: 0.3em;box-sizing: border-box;text-align: center;}#sk-container-id-3 label.sk-toggleable__label-arrow:before {content: \"▸\";float: left;margin-right: 0.25em;color: #696969;}#sk-container-id-3 label.sk-toggleable__label-arrow:hover:before {color: black;}#sk-container-id-3 div.sk-estimator:hover label.sk-toggleable__label-arrow:before {color: black;}#sk-container-id-3 div.sk-toggleable__content {max-height: 0;max-width: 0;overflow: hidden;text-align: left;background-color: #f0f8ff;}#sk-container-id-3 div.sk-toggleable__content pre {margin: 0.2em;color: black;border-radius: 0.25em;background-color: #f0f8ff;}#sk-container-id-3 input.sk-toggleable__control:checked~div.sk-toggleable__content {max-height: 200px;max-width: 100%;overflow: auto;}#sk-container-id-3 input.sk-toggleable__control:checked~label.sk-toggleable__label-arrow:before {content: \"▾\";}#sk-container-id-3 div.sk-estimator input.sk-toggleable__control:checked~label.sk-toggleable__label {background-color: #d4ebff;}#sk-container-id-3 div.sk-label input.sk-toggleable__control:checked~label.sk-toggleable__label {background-color: #d4ebff;}#sk-container-id-3 input.sk-hidden--visually {border: 0;clip: rect(1px 1px 1px 1px);clip: rect(1px, 1px, 1px, 1px);height: 1px;margin: -1px;overflow: hidden;padding: 0;position: absolute;width: 1px;}#sk-container-id-3 div.sk-estimator {font-family: monospace;background-color: #f0f8ff;border: 1px dotted black;border-radius: 0.25em;box-sizing: border-box;margin-bottom: 0.5em;}#sk-container-id-3 div.sk-estimator:hover {background-color: #d4ebff;}#sk-container-id-3 div.sk-parallel-item::after {content: \"\";width: 100%;border-bottom: 1px solid gray;flex-grow: 1;}#sk-container-id-3 div.sk-label:hover label.sk-toggleable__label {background-color: #d4ebff;}#sk-container-id-3 div.sk-serial::before {content: \"\";position: absolute;border-left: 1px solid gray;box-sizing: border-box;top: 0;bottom: 0;left: 50%;z-index: 0;}#sk-container-id-3 div.sk-serial {display: flex;flex-direction: column;align-items: center;background-color: white;padding-right: 0.2em;padding-left: 0.2em;position: relative;}#sk-container-id-3 div.sk-item {position: relative;z-index: 1;}#sk-container-id-3 div.sk-parallel {display: flex;align-items: stretch;justify-content: center;background-color: white;position: relative;}#sk-container-id-3 div.sk-item::before, #sk-container-id-3 div.sk-parallel-item::before {content: \"\";position: absolute;border-left: 1px solid gray;box-sizing: border-box;top: 0;bottom: 0;left: 50%;z-index: -1;}#sk-container-id-3 div.sk-parallel-item {display: flex;flex-direction: column;z-index: 1;position: relative;background-color: white;}#sk-container-id-3 div.sk-parallel-item:first-child::after {align-self: flex-end;width: 50%;}#sk-container-id-3 div.sk-parallel-item:last-child::after {align-self: flex-start;width: 50%;}#sk-container-id-3 div.sk-parallel-item:only-child::after {width: 0;}#sk-container-id-3 div.sk-dashed-wrapped {border: 1px dashed gray;margin: 0 0.4em 0.5em 0.4em;box-sizing: border-box;padding-bottom: 0.4em;background-color: white;}#sk-container-id-3 div.sk-label label {font-family: monospace;font-weight: bold;display: inline-block;line-height: 1.2em;}#sk-container-id-3 div.sk-label-container {text-align: center;}#sk-container-id-3 div.sk-container {/* jupyter's `normalize.less` sets `[hidden] { display: none; }` but bootstrap.min.css set `[hidden] { display: none !important; }` so we also need the `!important` here to be able to override the default hidden behavior on the sphinx rendered scikit-learn.org. See: https://github.com/scikit-learn/scikit-learn/issues/21755 */display: inline-block !important;position: relative;}#sk-container-id-3 div.sk-text-repr-fallback {display: none;}</style><div id=\"sk-container-id-3\" class=\"sk-top-container\"><div class=\"sk-text-repr-fallback\"><pre>XGBRegressor(base_score=None, booster=None, callbacks=None,\n",
       "             colsample_bylevel=None, colsample_bynode=None,\n",
       "             colsample_bytree=0.8, device=None, early_stopping_rounds=None,\n",
       "             enable_categorical=False, eval_metric=None, feature_types=None,\n",
       "             feature_weights=None, gamma=None, grow_policy=None,\n",
       "             importance_type=None, interaction_constraints=None,\n",
       "             learning_rate=0.05, max_bin=None, max_cat_threshold=None,\n",
       "             max_cat_to_onehot=None, max_delta_step=None, max_depth=6,\n",
       "             max_leaves=None, min_child_weight=None, missing=nan,\n",
       "             monotone_constraints=None, multi_strategy=None, n_estimators=300,\n",
       "             n_jobs=None, num_parallel_tree=None, ...)</pre><b>In a Jupyter environment, please rerun this cell to show the HTML representation or trust the notebook. <br />On GitHub, the HTML representation is unable to render, please try loading this page with nbviewer.org.</b></div><div class=\"sk-container\" hidden><div class=\"sk-item\"><div class=\"sk-estimator sk-toggleable\"><input class=\"sk-toggleable__control sk-hidden--visually\" id=\"sk-estimator-id-3\" type=\"checkbox\" checked><label for=\"sk-estimator-id-3\" class=\"sk-toggleable__label sk-toggleable__label-arrow\">XGBRegressor</label><div class=\"sk-toggleable__content\"><pre>XGBRegressor(base_score=None, booster=None, callbacks=None,\n",
       "             colsample_bylevel=None, colsample_bynode=None,\n",
       "             colsample_bytree=0.8, device=None, early_stopping_rounds=None,\n",
       "             enable_categorical=False, eval_metric=None, feature_types=None,\n",
       "             feature_weights=None, gamma=None, grow_policy=None,\n",
       "             importance_type=None, interaction_constraints=None,\n",
       "             learning_rate=0.05, max_bin=None, max_cat_threshold=None,\n",
       "             max_cat_to_onehot=None, max_delta_step=None, max_depth=6,\n",
       "             max_leaves=None, min_child_weight=None, missing=nan,\n",
       "             monotone_constraints=None, multi_strategy=None, n_estimators=300,\n",
       "             n_jobs=None, num_parallel_tree=None, ...)</pre></div></div></div></div></div>"
      ],
      "text/plain": [
       "XGBRegressor(base_score=None, booster=None, callbacks=None,\n",
       "             colsample_bylevel=None, colsample_bynode=None,\n",
       "             colsample_bytree=0.8, device=None, early_stopping_rounds=None,\n",
       "             enable_categorical=False, eval_metric=None, feature_types=None,\n",
       "             feature_weights=None, gamma=None, grow_policy=None,\n",
       "             importance_type=None, interaction_constraints=None,\n",
       "             learning_rate=0.05, max_bin=None, max_cat_threshold=None,\n",
       "             max_cat_to_onehot=None, max_delta_step=None, max_depth=6,\n",
       "             max_leaves=None, min_child_weight=None, missing=nan,\n",
       "             monotone_constraints=None, multi_strategy=None, n_estimators=300,\n",
       "             n_jobs=None, num_parallel_tree=None, ...)"
      ]
     },
     "execution_count": 47,
     "metadata": {},
     "output_type": "execute_result"
    }
   ],
   "source": [
    "# Trained Final Models (Regressor)\n",
    "from xgboost import XGBRegressor\n",
    "\n",
    "xgb_reg = XGBRegressor(\n",
    "    n_estimators=300,\n",
    "    learning_rate=0.05,\n",
    "    max_depth=6,\n",
    "    subsample=0.8,\n",
    "    colsample_bytree=0.8,\n",
    "    random_state=42\n",
    ")\n",
    "xgb_reg.fit(X_train, y_train_reg)\n"
   ]
  },
  {
   "cell_type": "code",
   "execution_count": 48,
   "id": "88a93640",
   "metadata": {},
   "outputs": [
    {
     "name": "stderr",
     "output_type": "stream",
     "text": [
      "C:\\Users\\IPPIS\\anaconda3\\lib\\site-packages\\xgboost\\training.py:183: UserWarning: [15:10:26] WARNING: C:\\actions-runner\\_work\\xgboost\\xgboost\\src\\learner.cc:738: \n",
      "Parameters: { \"use_label_encoder\" } are not used.\n",
      "\n",
      "  bst.update(dtrain, iteration=i, fobj=obj)\n"
     ]
    },
    {
     "data": {
      "text/html": [
       "<style>#sk-container-id-4 {color: black;background-color: white;}#sk-container-id-4 pre{padding: 0;}#sk-container-id-4 div.sk-toggleable {background-color: white;}#sk-container-id-4 label.sk-toggleable__label {cursor: pointer;display: block;width: 100%;margin-bottom: 0;padding: 0.3em;box-sizing: border-box;text-align: center;}#sk-container-id-4 label.sk-toggleable__label-arrow:before {content: \"▸\";float: left;margin-right: 0.25em;color: #696969;}#sk-container-id-4 label.sk-toggleable__label-arrow:hover:before {color: black;}#sk-container-id-4 div.sk-estimator:hover label.sk-toggleable__label-arrow:before {color: black;}#sk-container-id-4 div.sk-toggleable__content {max-height: 0;max-width: 0;overflow: hidden;text-align: left;background-color: #f0f8ff;}#sk-container-id-4 div.sk-toggleable__content pre {margin: 0.2em;color: black;border-radius: 0.25em;background-color: #f0f8ff;}#sk-container-id-4 input.sk-toggleable__control:checked~div.sk-toggleable__content {max-height: 200px;max-width: 100%;overflow: auto;}#sk-container-id-4 input.sk-toggleable__control:checked~label.sk-toggleable__label-arrow:before {content: \"▾\";}#sk-container-id-4 div.sk-estimator input.sk-toggleable__control:checked~label.sk-toggleable__label {background-color: #d4ebff;}#sk-container-id-4 div.sk-label input.sk-toggleable__control:checked~label.sk-toggleable__label {background-color: #d4ebff;}#sk-container-id-4 input.sk-hidden--visually {border: 0;clip: rect(1px 1px 1px 1px);clip: rect(1px, 1px, 1px, 1px);height: 1px;margin: -1px;overflow: hidden;padding: 0;position: absolute;width: 1px;}#sk-container-id-4 div.sk-estimator {font-family: monospace;background-color: #f0f8ff;border: 1px dotted black;border-radius: 0.25em;box-sizing: border-box;margin-bottom: 0.5em;}#sk-container-id-4 div.sk-estimator:hover {background-color: #d4ebff;}#sk-container-id-4 div.sk-parallel-item::after {content: \"\";width: 100%;border-bottom: 1px solid gray;flex-grow: 1;}#sk-container-id-4 div.sk-label:hover label.sk-toggleable__label {background-color: #d4ebff;}#sk-container-id-4 div.sk-serial::before {content: \"\";position: absolute;border-left: 1px solid gray;box-sizing: border-box;top: 0;bottom: 0;left: 50%;z-index: 0;}#sk-container-id-4 div.sk-serial {display: flex;flex-direction: column;align-items: center;background-color: white;padding-right: 0.2em;padding-left: 0.2em;position: relative;}#sk-container-id-4 div.sk-item {position: relative;z-index: 1;}#sk-container-id-4 div.sk-parallel {display: flex;align-items: stretch;justify-content: center;background-color: white;position: relative;}#sk-container-id-4 div.sk-item::before, #sk-container-id-4 div.sk-parallel-item::before {content: \"\";position: absolute;border-left: 1px solid gray;box-sizing: border-box;top: 0;bottom: 0;left: 50%;z-index: -1;}#sk-container-id-4 div.sk-parallel-item {display: flex;flex-direction: column;z-index: 1;position: relative;background-color: white;}#sk-container-id-4 div.sk-parallel-item:first-child::after {align-self: flex-end;width: 50%;}#sk-container-id-4 div.sk-parallel-item:last-child::after {align-self: flex-start;width: 50%;}#sk-container-id-4 div.sk-parallel-item:only-child::after {width: 0;}#sk-container-id-4 div.sk-dashed-wrapped {border: 1px dashed gray;margin: 0 0.4em 0.5em 0.4em;box-sizing: border-box;padding-bottom: 0.4em;background-color: white;}#sk-container-id-4 div.sk-label label {font-family: monospace;font-weight: bold;display: inline-block;line-height: 1.2em;}#sk-container-id-4 div.sk-label-container {text-align: center;}#sk-container-id-4 div.sk-container {/* jupyter's `normalize.less` sets `[hidden] { display: none; }` but bootstrap.min.css set `[hidden] { display: none !important; }` so we also need the `!important` here to be able to override the default hidden behavior on the sphinx rendered scikit-learn.org. See: https://github.com/scikit-learn/scikit-learn/issues/21755 */display: inline-block !important;position: relative;}#sk-container-id-4 div.sk-text-repr-fallback {display: none;}</style><div id=\"sk-container-id-4\" class=\"sk-top-container\"><div class=\"sk-text-repr-fallback\"><pre>XGBClassifier(base_score=None, booster=None, callbacks=None,\n",
       "              colsample_bylevel=None, colsample_bynode=None,\n",
       "              colsample_bytree=None, device=None, early_stopping_rounds=None,\n",
       "              enable_categorical=False, eval_metric=&#x27;logloss&#x27;,\n",
       "              feature_types=None, feature_weights=None, gamma=None,\n",
       "              grow_policy=None, importance_type=None,\n",
       "              interaction_constraints=None, learning_rate=0.05, max_bin=None,\n",
       "              max_cat_threshold=None, max_cat_to_onehot=None,\n",
       "              max_delta_step=None, max_depth=5, max_leaves=None,\n",
       "              min_child_weight=None, missing=nan, monotone_constraints=None,\n",
       "              multi_strategy=None, n_estimators=300, n_jobs=None,\n",
       "              num_parallel_tree=None, ...)</pre><b>In a Jupyter environment, please rerun this cell to show the HTML representation or trust the notebook. <br />On GitHub, the HTML representation is unable to render, please try loading this page with nbviewer.org.</b></div><div class=\"sk-container\" hidden><div class=\"sk-item\"><div class=\"sk-estimator sk-toggleable\"><input class=\"sk-toggleable__control sk-hidden--visually\" id=\"sk-estimator-id-4\" type=\"checkbox\" checked><label for=\"sk-estimator-id-4\" class=\"sk-toggleable__label sk-toggleable__label-arrow\">XGBClassifier</label><div class=\"sk-toggleable__content\"><pre>XGBClassifier(base_score=None, booster=None, callbacks=None,\n",
       "              colsample_bylevel=None, colsample_bynode=None,\n",
       "              colsample_bytree=None, device=None, early_stopping_rounds=None,\n",
       "              enable_categorical=False, eval_metric=&#x27;logloss&#x27;,\n",
       "              feature_types=None, feature_weights=None, gamma=None,\n",
       "              grow_policy=None, importance_type=None,\n",
       "              interaction_constraints=None, learning_rate=0.05, max_bin=None,\n",
       "              max_cat_threshold=None, max_cat_to_onehot=None,\n",
       "              max_delta_step=None, max_depth=5, max_leaves=None,\n",
       "              min_child_weight=None, missing=nan, monotone_constraints=None,\n",
       "              multi_strategy=None, n_estimators=300, n_jobs=None,\n",
       "              num_parallel_tree=None, ...)</pre></div></div></div></div></div>"
      ],
      "text/plain": [
       "XGBClassifier(base_score=None, booster=None, callbacks=None,\n",
       "              colsample_bylevel=None, colsample_bynode=None,\n",
       "              colsample_bytree=None, device=None, early_stopping_rounds=None,\n",
       "              enable_categorical=False, eval_metric='logloss',\n",
       "              feature_types=None, feature_weights=None, gamma=None,\n",
       "              grow_policy=None, importance_type=None,\n",
       "              interaction_constraints=None, learning_rate=0.05, max_bin=None,\n",
       "              max_cat_threshold=None, max_cat_to_onehot=None,\n",
       "              max_delta_step=None, max_depth=5, max_leaves=None,\n",
       "              min_child_weight=None, missing=nan, monotone_constraints=None,\n",
       "              multi_strategy=None, n_estimators=300, n_jobs=None,\n",
       "              num_parallel_tree=None, ...)"
      ]
     },
     "execution_count": 48,
     "metadata": {},
     "output_type": "execute_result"
    }
   ],
   "source": [
    "# Trained Final Models (Classifier)\n",
    "from xgboost import XGBClassifier\n",
    "\n",
    "xgb_clf = XGBClassifier(\n",
    "    n_estimators=300,\n",
    "    learning_rate=0.05,\n",
    "    max_depth=5,\n",
    "    scale_pos_weight=1,\n",
    "    use_label_encoder=False,\n",
    "    eval_metric='logloss',\n",
    "    random_state=42\n",
    ")\n",
    "xgb_clf.fit(X_train, y_train_clf)\n"
   ]
  },
  {
   "cell_type": "code",
   "execution_count": 49,
   "id": "08c80aac",
   "metadata": {},
   "outputs": [
    {
     "name": "stdout",
     "output_type": "stream",
     "text": [
      "R²: 0.6046704881182063\n",
      "MAE: 600.0027452666184\n",
      "RMSE: 802.6281532257315\n"
     ]
    }
   ],
   "source": [
    "# Evaluated and Validated (Regressor)\n",
    "from sklearn.metrics import r2_score, mean_absolute_error, mean_squared_error\n",
    "import numpy as np\n",
    "\n",
    "y_pred_reg = xgb_reg.predict(X_test)\n",
    "print(\"R²:\", r2_score(y_test_reg, y_pred_reg))\n",
    "print(\"MAE:\", mean_absolute_error(y_test_reg, y_pred_reg))\n",
    "print(\"RMSE:\", np.sqrt(mean_squared_error(y_test_reg, y_pred_reg)))\n"
   ]
  },
  {
   "cell_type": "code",
   "execution_count": 51,
   "id": "6ce058e5",
   "metadata": {},
   "outputs": [
    {
     "name": "stdout",
     "output_type": "stream",
     "text": [
      "[[158   6]\n",
      " [  2  66]]\n",
      "              precision    recall  f1-score   support\n",
      "\n",
      "           0       0.99      0.96      0.98       164\n",
      "           1       0.92      0.97      0.94        68\n",
      "\n",
      "    accuracy                           0.97       232\n",
      "   macro avg       0.95      0.97      0.96       232\n",
      "weighted avg       0.97      0.97      0.97       232\n",
      "\n"
     ]
    }
   ],
   "source": [
    "# Evaluated and Validated (Classifier)\n",
    "from sklearn.metrics import classification_report, confusion_matrix\n",
    "\n",
    "y_pred_clf = xgb_clf.predict(X_test)\n",
    "print(confusion_matrix(y_test_clf, y_pred_clf))\n",
    "print(classification_report(y_test_clf, y_pred_clf))\n"
   ]
  },
  {
   "cell_type": "code",
   "execution_count": 52,
   "id": "e7c53b21",
   "metadata": {},
   "outputs": [],
   "source": [
    "# Predicted next month’s patient visits\n",
    "future_df = df[df['month'] == '2024-12-01'][features]\n",
    "future_df['predicted_visits'] = xgb_reg.predict(future_df)\n"
   ]
  },
  {
   "cell_type": "code",
   "execution_count": 53,
   "id": "ff26e0b4",
   "metadata": {},
   "outputs": [],
   "source": [
    "# Selected Features\n",
    "features = [\n",
    "    'patient_visits_total','population_catchment','staff_count','disease_cases',\n",
    "    'travel_time_min','visits_per_staff','visits_per_1000_pop','disease_ratio'\n",
    "]\n"
   ]
  },
  {
   "cell_type": "code",
   "execution_count": 54,
   "id": "baaa7d0f",
   "metadata": {},
   "outputs": [
    {
     "data": {
      "text/plain": [
       "Index(['patient_visits_total', 'population_catchment', 'staff_count',\n",
       "       'disease_cases', 'travel_time_min', 'visits_per_staff',\n",
       "       'visits_per_1000_pop', 'disease_ratio'],\n",
       "      dtype='object')"
      ]
     },
     "execution_count": 54,
     "metadata": {},
     "output_type": "execute_result"
    }
   ],
   "source": [
    "# Deleted unwanted columns\n",
    "future_X = future_df.drop(columns=['predicted_visits'], errors='ignore')[features]\n",
    "future_X.columns"
   ]
  },
  {
   "cell_type": "code",
   "execution_count": 55,
   "id": "d039ddf4",
   "metadata": {},
   "outputs": [],
   "source": [
    "# Predicted overload risk\n",
    "future_df['overload_flag_pred'] = xgb_clf.predict(future_X)"
   ]
  },
  {
   "cell_type": "code",
   "execution_count": 59,
   "id": "89e7e6f5",
   "metadata": {},
   "outputs": [
    {
     "name": "stdout",
     "output_type": "stream",
     "text": [
      "Saved phc_forecast_predictions.csv with 10 rows\n"
     ]
    }
   ],
   "source": [
    "# Interpreted & Exported Results\n",
    "import pandas as pd\n",
    "from pandas.tseries.offsets import MonthBegin\n",
    "\n",
    "# --- 0) Housekeeping: make sure we have the right column names and dtypes\n",
    "if 'facility_name_x' in df.columns:\n",
    "    df = df.rename(columns={'facility_name_x': 'facility_name'})\n",
    "df['month'] = pd.to_datetime(df['month'])\n",
    "\n",
    "# --- 1) Define the exact feature schema used for training\n",
    "features = [\n",
    "    'patient_visits_total','population_catchment','staff_count','disease_cases',\n",
    "    'travel_time_min','visits_per_staff','visits_per_1000_pop','disease_ratio'\n",
    "]\n",
    "\n",
    "# --- 2) Choose the month you’re forecasting from (the latest month in your data)\n",
    "asof_month = df['month'].max()\n",
    "\n",
    "# Build a source frame that STILL has facility_name + month + features\n",
    "future_source = df[df['month'] == asof_month].copy()\n",
    "\n",
    "# Safety check for missing features\n",
    "missing = [c for c in features if c not in future_source.columns]\n",
    "if missing:\n",
    "    raise ValueError(f\"Missing required features in future_source: {missing}\")\n",
    "\n",
    "# --- 3) Predict using the trained models\n",
    "future_source['predicted_visits']     = xgb_reg.predict(future_source[features])\n",
    "future_source['overload_flag_pred']   = xgb_clf.predict(future_source[features])\n",
    "\n",
    "# (Optional) Label the forecast month explicitly (next month)\n",
    "future_source['forecast_month'] = (asof_month + MonthBegin(1))\n",
    "\n",
    "# --- 4) Attach ward/LGA metadata (from df if present, else from registry_df)\n",
    "meta_cols = ['facility_name','ward','lga']\n",
    "if all(c in df.columns for c in meta_cols):\n",
    "    meta = df[meta_cols].drop_duplicates('facility_name')\n",
    "elif 'registry_df' in globals() and all(c in registry_df.columns for c in meta_cols):\n",
    "    meta = registry_df[meta_cols].drop_duplicates('facility_name')\n",
    "else:\n",
    "    # as a last resort, fill blanks to avoid KeyError\n",
    "    meta = future_source[['facility_name']].drop_duplicates().copy()\n",
    "    meta['ward'] = None; meta['lga'] = None\n",
    "\n",
    "out = future_source.merge(meta, on='facility_name', how='left')\n",
    "\n",
    "# --- 5) Final columns and export\n",
    "cols = ['facility_name','ward','lga','month','forecast_month','predicted_visits','overload_flag_pred']\n",
    "out = out[[c for c in cols if c in out.columns]]\n",
    "\n",
    "out.to_csv(\"phc_forecast_predictions.csv\", index=False)\n",
    "print(\"Saved phc_forecast_predictions.csv with\", len(out), \"rows\")\n"
   ]
  },
  {
   "cell_type": "code",
   "execution_count": 62,
   "id": "5558e279",
   "metadata": {},
   "outputs": [
    {
     "data": {
      "image/png": "[encoded data removed]",
      "text/plain": [
       "<Figure size 1000x600 with 1 Axes>"
      ]
     },
     "metadata": {},
     "output_type": "display_data"
    }
   ],
   "source": [
    "# Visualization\n",
    "import matplotlib.pyplot as plt\n",
    "import seaborn as sns\n",
    "\n",
    "plt.figure(figsize=(10,6))\n",
    "sns.regplot(x=y_test_reg, y=y_pred_reg)\n",
    "plt.xlabel(\"Actual Visits\")\n",
    "plt.ylabel(\"Predicted Visits\")\n",
    "plt.title(\"XGBoost Regressor: Actual vs Predicted Patient Visits\")\n",
    "plt.show()\n"
   ]
  },
  {
   "cell_type": "code",
   "execution_count": 61,
   "id": "84b6b317",
   "metadata": {},
   "outputs": [
    {
     "data": {
      "image/png": "[encoded data removed]",
      "text/plain": [
       "<Figure size 640x480 with 2 Axes>"
      ]
     },
     "metadata": {},
     "output_type": "display_data"
    }
   ],
   "source": [
    "# Visualization\n",
    "sns.heatmap(confusion_matrix(y_test_clf, y_pred_clf), annot=True, fmt='d', cmap='Blues')\n",
    "plt.title(\"XGBoost Classifier Confusion Matrix\")\n",
    "plt.show()\n"
   ]
  },
  {
   "cell_type": "markdown",
   "id": "cd1f250c",
   "metadata": {},
   "source": [
    "# Saving The Trained Models"
   ]
  },
  {
   "cell_type": "code",
   "execution_count": 63,
   "id": "69b3cb49",
   "metadata": {},
   "outputs": [
    {
     "name": "stdout",
     "output_type": "stream",
     "text": [
      "Models saved successfully as 'xgb_regressor_model.pkl' and 'xgb_classifier_model.pkl'\n"
     ]
    }
   ],
   "source": [
    "# Saved the Models\n",
    "import joblib\n",
    "\n",
    "# Save the XGBoost Regressor\n",
    "joblib.dump(xgb_reg, \"xgb_regressor_model.pkl\")\n",
    "\n",
    "# Save the XGBoost Classifier\n",
    "joblib.dump(xgb_clf, \"xgb_classifier_model.pkl\")\n",
    "\n",
    "print(\"Models saved successfully as 'xgb_regressor_model.pkl' and 'xgb_classifier_model.pkl'\")\n"
   ]
  },
  {
   "cell_type": "code",
   "execution_count": null,
   "id": "385c6c9d",
   "metadata": {},
   "outputs": [],
   "source": []
  },
  {
   "cell_type": "code",
   "execution_count": null,
   "id": "0c18a677",
   "metadata": {},
   "outputs": [],
   "source": []
  },
  {
   "cell_type": "code",
   "execution_count": null,
   "id": "8878baba",
   "metadata": {},
   "outputs": [],
   "source": []
  },
  {
   "cell_type": "code",
   "execution_count": null,
   "id": "b369ab4a",
   "metadata": {},
   "outputs": [],
   "source": []
  },
  {
   "cell_type": "code",
   "execution_count": null,
   "id": "932f6860",
   "metadata": {},
   "outputs": [],
   "source": []
  },
  {
   "cell_type": "code",
   "execution_count": null,
   "id": "915a1297",
   "metadata": {},
   "outputs": [],
   "source": []
  },
  {
   "cell_type": "code",
   "execution_count": null,
   "id": "d80e48c9",
   "metadata": {},
   "outputs": [],
   "source": []
  },
  {
   "cell_type": "code",
   "execution_count": null,
   "id": "39a1ec67",
   "metadata": {},
   "outputs": [],
   "source": []
  },
  {
   "cell_type": "code",
   "execution_count": null,
   "id": "35cb2245",
   "metadata": {},
   "outputs": [],
   "source": []
  }
 ],
 "metadata": {
  "kernelspec": {
   "display_name": "Python 3 (ipykernel)",
   "language": "python",
   "name": "python3"
  },
  "language_info": {
   "codemirror_mode": {
    "name": "ipython",
    "version": 3
   },
   "file_extension": ".py",
   "mimetype": "text/x-python",
   "name": "python",
   "nbconvert_exporter": "python",
   "pygments_lexer": "ipython3",
   "version": "3.10.9"
  }
 },
 "nbformat": 4,
 "nbformat_minor": 5
}
